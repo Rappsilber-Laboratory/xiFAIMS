{
 "cells": [
  {
   "cell_type": "markdown",
   "metadata": {},
   "source": [
    "# Code for summarizing the xiRT results on the FAIMS data\n",
    "\n",
    "Please see the README.md to get information about the result files."
   ]
  },
  {
   "cell_type": "code",
   "execution_count": 53,
   "metadata": {},
   "outputs": [],
   "source": [
    "import seaborn as sns\n",
    "import pandas as pd\n",
    "import glob\n",
    "import matplotlib.pyplot as plt\n"
   ]
  },
  {
   "cell_type": "code",
   "execution_count": 54,
   "metadata": {},
   "outputs": [
    {
     "data": {
      "text/html": [
       "<div>\n",
       "<style scoped>\n",
       "    .dataframe tbody tr th:only-of-type {\n",
       "        vertical-align: middle;\n",
       "    }\n",
       "\n",
       "    .dataframe tbody tr th {\n",
       "        vertical-align: top;\n",
       "    }\n",
       "\n",
       "    .dataframe thead th {\n",
       "        text-align: right;\n",
       "    }\n",
       "</style>\n",
       "<table border=\"1\" class=\"dataframe\">\n",
       "  <thead>\n",
       "    <tr style=\"text-align: right;\">\n",
       "      <th></th>\n",
       "      <th>r2</th>\n",
       "      <th>pearsonr</th>\n",
       "      <th>split</th>\n",
       "      <th>yaml</th>\n",
       "    </tr>\n",
       "  </thead>\n",
       "  <tbody>\n",
       "    <tr>\n",
       "      <th>0</th>\n",
       "      <td>0.420</td>\n",
       "      <td>0.648</td>\n",
       "      <td>validation</td>\n",
       "      <td>xirt_faims_ordinal_aux3</td>\n",
       "    </tr>\n",
       "    <tr>\n",
       "      <th>1</th>\n",
       "      <td>0.288</td>\n",
       "      <td>0.537</td>\n",
       "      <td>training</td>\n",
       "      <td>xirt_faims_ordinal_aux3</td>\n",
       "    </tr>\n",
       "    <tr>\n",
       "      <th>2</th>\n",
       "      <td>0.248</td>\n",
       "      <td>0.498</td>\n",
       "      <td>prediction</td>\n",
       "      <td>xirt_faims_ordinal_aux3</td>\n",
       "    </tr>\n",
       "    <tr>\n",
       "      <th>3</th>\n",
       "      <td>0.050</td>\n",
       "      <td>0.224</td>\n",
       "      <td>validation</td>\n",
       "      <td>xirt_faims_ordinal_aux3</td>\n",
       "    </tr>\n",
       "    <tr>\n",
       "      <th>4</th>\n",
       "      <td>0.087</td>\n",
       "      <td>0.295</td>\n",
       "      <td>training</td>\n",
       "      <td>xirt_faims_ordinal_aux3</td>\n",
       "    </tr>\n",
       "  </tbody>\n",
       "</table>\n",
       "</div>"
      ],
      "text/plain": [
       "      r2  pearsonr       split                     yaml\n",
       "0  0.420     0.648  validation  xirt_faims_ordinal_aux3\n",
       "1  0.288     0.537    training  xirt_faims_ordinal_aux3\n",
       "2  0.248     0.498  prediction  xirt_faims_ordinal_aux3\n",
       "3  0.050     0.224  validation  xirt_faims_ordinal_aux3\n",
       "4  0.087     0.295    training  xirt_faims_ordinal_aux3"
      ]
     },
     "execution_count": 54,
     "metadata": {},
     "output_type": "execute_result"
    }
   ],
   "source": [
    "path = \"../bash/results/xirt/\"\n",
    "files = glob.glob(path + \"*summary*.csv\", recursive=True)\n",
    "df_results = pd.concat([pd.read_csv(i, index_col=0) for i in files])\n",
    "df_results.head(5)\n"
   ]
  },
  {
   "cell_type": "code",
   "execution_count": 55,
   "metadata": {},
   "outputs": [
    {
     "data": {
      "text/html": [
       "<div>\n",
       "<style scoped>\n",
       "    .dataframe tbody tr th:only-of-type {\n",
       "        vertical-align: middle;\n",
       "    }\n",
       "\n",
       "    .dataframe tbody tr th {\n",
       "        vertical-align: top;\n",
       "    }\n",
       "\n",
       "    .dataframe thead th {\n",
       "        text-align: right;\n",
       "    }\n",
       "</style>\n",
       "<table border=\"1\" class=\"dataframe\">\n",
       "  <thead>\n",
       "    <tr style=\"text-align: right;\">\n",
       "      <th></th>\n",
       "      <th>split</th>\n",
       "      <th>yaml</th>\n",
       "      <th>variable</th>\n",
       "      <th>value</th>\n",
       "    </tr>\n",
       "  </thead>\n",
       "  <tbody>\n",
       "    <tr>\n",
       "      <th>0</th>\n",
       "      <td>validation</td>\n",
       "      <td>xirt_faims_ordinal_aux3</td>\n",
       "      <td>r2</td>\n",
       "      <td>0.420</td>\n",
       "    </tr>\n",
       "    <tr>\n",
       "      <th>1</th>\n",
       "      <td>training</td>\n",
       "      <td>xirt_faims_ordinal_aux3</td>\n",
       "      <td>r2</td>\n",
       "      <td>0.288</td>\n",
       "    </tr>\n",
       "    <tr>\n",
       "      <th>2</th>\n",
       "      <td>prediction</td>\n",
       "      <td>xirt_faims_ordinal_aux3</td>\n",
       "      <td>r2</td>\n",
       "      <td>0.248</td>\n",
       "    </tr>\n",
       "    <tr>\n",
       "      <th>3</th>\n",
       "      <td>validation</td>\n",
       "      <td>xirt_faims_ordinal_aux3</td>\n",
       "      <td>r2</td>\n",
       "      <td>0.050</td>\n",
       "    </tr>\n",
       "    <tr>\n",
       "      <th>4</th>\n",
       "      <td>training</td>\n",
       "      <td>xirt_faims_ordinal_aux3</td>\n",
       "      <td>r2</td>\n",
       "      <td>0.087</td>\n",
       "    </tr>\n",
       "  </tbody>\n",
       "</table>\n",
       "</div>"
      ],
      "text/plain": [
       "        split                     yaml variable  value\n",
       "0  validation  xirt_faims_ordinal_aux3       r2  0.420\n",
       "1    training  xirt_faims_ordinal_aux3       r2  0.288\n",
       "2  prediction  xirt_faims_ordinal_aux3       r2  0.248\n",
       "3  validation  xirt_faims_ordinal_aux3       r2  0.050\n",
       "4    training  xirt_faims_ordinal_aux3       r2  0.087"
      ]
     },
     "execution_count": 55,
     "metadata": {},
     "output_type": "execute_result"
    }
   ],
   "source": [
    "df_melt = df_results.melt(id_vars=[\"split\", \"yaml\"])\n",
    "df_melt.head(5)"
   ]
  },
  {
   "cell_type": "code",
   "execution_count": 57,
   "metadata": {},
   "outputs": [
    {
     "data": {
      "text/plain": [
       "<seaborn.axisgrid.FacetGrid at 0x17fd3ceea90>"
      ]
     },
     "execution_count": 57,
     "metadata": {},
     "output_type": "execute_result"
    },
    {
     "data": {
      "image/png": "[encoded data removed]",
      "text/plain": [
       "<Figure size 874.625x360 with 2 Axes>"
      ]
     },
     "metadata": {
      "needs_background": "light"
     },
     "output_type": "display_data"
    }
   ],
   "source": [
    "sns.catplot(x=\"split\", y=\"value\", hue=\"yaml\", col=\"variable\", data=df_melt, kind=\"bar\", order=[\"training\", \"validation\", \"prediction\"])"
   ]
  },
  {
   "cell_type": "code",
   "execution_count": null,
   "metadata": {},
   "outputs": [],
   "source": []
  },
  {
   "cell_type": "markdown",
   "metadata": {},
   "source": [
    "# Results\n",
    "The above plot shows the training and validation error depending on the used parameters for xiRT. Both R2 and PearsonR are best optimized towards 1\n",
    "Take aways:\n",
    "- ordinal regression seems to be slightly more robust than normal regression (smaller error bar + slightly better performance)\n",
    "- train and test behavior is very similar\n",
    "- auxillary tasks ..."
   ]
  }
 ],
 "metadata": {
  "kernelspec": {
   "display_name": "Python 3",
   "language": "python",
   "name": "python3"
  },
  "language_info": {
   "codemirror_mode": {
    "name": "ipython",
    "version": 3
   },
   "file_extension": ".py",
   "mimetype": "text/x-python",
   "name": "python",
   "nbconvert_exporter": "python",
   "pygments_lexer": "ipython3",
   "version": "3.8.3"
  }
 },
 "nbformat": 4,
 "nbformat_minor": 4
}
