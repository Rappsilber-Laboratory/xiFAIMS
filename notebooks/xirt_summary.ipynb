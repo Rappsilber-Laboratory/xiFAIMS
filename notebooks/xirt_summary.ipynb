{
 "cells": [
  {
   "cell_type": "markdown",
   "metadata": {},
   "source": [
    "# Code for summarizing the xiRT results on the FAIMS data\n",
    "\n",
    "Please see the README.md to get information about the result files."
   ]
  },
  {
   "cell_type": "code",
   "execution_count": 15,
   "metadata": {},
   "outputs": [],
   "source": [
    "import seaborn as sns\n",
    "import pandas as pd\n",
    "import glob\n",
    "import matplotlib.pyplot as plt\n"
   ]
  },
  {
   "cell_type": "code",
   "execution_count": 25,
   "metadata": {},
   "outputs": [
    {
     "data": {
      "text/html": [
       "<div>\n",
       "<style scoped>\n",
       "    .dataframe tbody tr th:only-of-type {\n",
       "        vertical-align: middle;\n",
       "    }\n",
       "\n",
       "    .dataframe tbody tr th {\n",
       "        vertical-align: top;\n",
       "    }\n",
       "\n",
       "    .dataframe thead th {\n",
       "        text-align: right;\n",
       "    }\n",
       "</style>\n",
       "<table border=\"1\" class=\"dataframe\">\n",
       "  <thead>\n",
       "    <tr style=\"text-align: right;\">\n",
       "      <th></th>\n",
       "      <th>r2</th>\n",
       "      <th>pearsonr</th>\n",
       "      <th>split</th>\n",
       "      <th>yaml</th>\n",
       "    </tr>\n",
       "  </thead>\n",
       "  <tbody>\n",
       "    <tr>\n",
       "      <th>0</th>\n",
       "      <td>0.415</td>\n",
       "      <td>0.644</td>\n",
       "      <td>validation</td>\n",
       "      <td>xirt_faims_ordinal_aux3</td>\n",
       "    </tr>\n",
       "    <tr>\n",
       "      <th>1</th>\n",
       "      <td>0.517</td>\n",
       "      <td>0.719</td>\n",
       "      <td>training</td>\n",
       "      <td>xirt_faims_ordinal_aux3</td>\n",
       "    </tr>\n",
       "    <tr>\n",
       "      <th>2</th>\n",
       "      <td>0.295</td>\n",
       "      <td>0.543</td>\n",
       "      <td>validation</td>\n",
       "      <td>xirt_faims_ordinal_aux3</td>\n",
       "    </tr>\n",
       "    <tr>\n",
       "      <th>3</th>\n",
       "      <td>0.464</td>\n",
       "      <td>0.681</td>\n",
       "      <td>training</td>\n",
       "      <td>xirt_faims_ordinal_aux3</td>\n",
       "    </tr>\n",
       "    <tr>\n",
       "      <th>4</th>\n",
       "      <td>0.372</td>\n",
       "      <td>0.610</td>\n",
       "      <td>validation</td>\n",
       "      <td>xirt_faims_ordinal_aux3</td>\n",
       "    </tr>\n",
       "  </tbody>\n",
       "</table>\n",
       "</div>"
      ],
      "text/plain": [
       "      r2  pearsonr       split                     yaml\n",
       "0  0.415     0.644  validation  xirt_faims_ordinal_aux3\n",
       "1  0.517     0.719    training  xirt_faims_ordinal_aux3\n",
       "2  0.295     0.543  validation  xirt_faims_ordinal_aux3\n",
       "3  0.464     0.681    training  xirt_faims_ordinal_aux3\n",
       "4  0.372     0.610  validation  xirt_faims_ordinal_aux3"
      ]
     },
     "execution_count": 25,
     "metadata": {},
     "output_type": "execute_result"
    }
   ],
   "source": [
    "path = \"../bash/results/xirt/\"\n",
    "files = glob.glob(path + \"*summary*.csv\", recursive=True)\n",
    "df_results = pd.concat([pd.read_csv(i, index_col=0) for i in files])\n",
    "df_results.head(5)"
   ]
  },
  {
   "cell_type": "code",
   "execution_count": 26,
   "metadata": {},
   "outputs": [
    {
     "data": {
      "image/png": "[encoded data removed]",
      "text/plain": [
       "<Figure size 1152x288 with 2 Axes>"
      ]
     },
     "metadata": {
      "needs_background": "light"
     },
     "output_type": "display_data"
    }
   ],
   "source": [
    "f, (ax1, ax2) = plt.subplots(1, 2, figsize=(16, 4))\n",
    "sns.barplot(x=\"split\", y=\"r2\", hue=\"yaml\", data=df_results, ax=ax1)\n",
    "sns.despine()\n",
    "\n",
    "sns.barplot(x=\"split\", y=\"pearsonr\", hue=\"yaml\", data=df_results, ax=ax2)\n",
    "sns.despine()"
   ]
  },
  {
   "cell_type": "markdown",
   "metadata": {},
   "source": [
    "# Results\n",
    "The above plot shows the training and validation error depending on the used parameters for xiRT. Both R2 and PearsonR are best optimized towards 1\n",
    "Take aways:\n",
    "- ordinal regression seems to be slightly more robust than normal regression (smaller error bar + slightly better performance)\n",
    "- train and test behavior is very similar\n",
    "- auxillary tasks ..."
   ]
  }
 ],
 "metadata": {
  "kernelspec": {
   "display_name": "Python 3",
   "language": "python",
   "name": "python3"
  },
  "language_info": {
   "codemirror_mode": {
    "name": "ipython",
    "version": 3
   },
   "file_extension": ".py",
   "mimetype": "text/x-python",
   "name": "python",
   "nbconvert_exporter": "python",
   "pygments_lexer": "ipython3",
   "version": "3.8.3"
  }
 },
 "nbformat": 4,
 "nbformat_minor": 4
}
