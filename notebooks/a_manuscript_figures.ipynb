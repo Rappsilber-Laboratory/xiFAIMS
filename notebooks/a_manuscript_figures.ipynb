{
 "cells": [
  {
   "cell_type": "code",
   "execution_count": null,
   "metadata": {
    "collapsed": true
   },
   "outputs": [],
   "source": [
    "import pickle\n",
    "\n",
    "import matplotlib.pyplot as plt\n",
    "import numpy as np\n",
    "import seaborn as sns\n",
    "import shap\n",
    "from matplotlib import ticker\n",
    "\n",
    "# load the results from no feature selection\n",
    "data_dic = pickle.load(open(r\"..\\results\\xifaims_8PM4PM_CO_NAVG_huge_nofeats.p\", \"rb\"))\n",
    "\n",
    "# process metrics\n",
    "metrics_df = data_dic[\"metrics\"]\n",
    "metrics_df = metrics_df.round(2)\n",
    "metrics_df = metrics_df.set_index(\"split\")\n",
    "metrics_df\n",
    "\n",
    "# process predictions\n",
    "predictions_df = data_dic[\"predictions_df\"]\n",
    "predictions_df.Split.unique()\n",
    "predictions_df[\"Split\"] = predictions_df[\"Split\"].str.replace(\"Test\", \"Validation\")\n",
    "predictions_df[\"diff\"] = predictions_df[\"predictions\"] -  predictions_df[\"observed\"]\n",
    "predictions_df[\"diff_abs\"] = np.abs(predictions_df[\"predictions\"] -  predictions_df[\"observed\"])\n",
    "predictions_df[\"Split\"] = [f\"{i} ({metrics_df.loc[i]['pearsonr']})\" for i in predictions_df[\"Split\"]]\n",
    "predictions_df_TV = predictions_df[~predictions_df[\"Split\"].str.contains(\"DX\")]\n",
    "\n",
    "#cv data\n",
    "df_cv = data_dic[\"summary_gs\"]\n",
    "df_cv = df_cv.sort_values(\"rank_test_score\", ascending=True)\n",
    "df_cv.filter(regex=\"param|rank\", axis=1).head(20)\n",
    "best_df = df_cv.filter(regex=\"split|rank\")\n",
    "\n",
    "res_melt = best_df.melt(id_vars=[\"rank_test_score\"])\n",
    "res_melt = res_melt[res_melt[\"rank_test_score\"] == 1]\n",
    "res_melt[\"Split\"] = [\"Train\" if \"train\" in i else \"Test\" for i in res_melt[\"variable\"]]"
   ]
  },
  {
   "cell_type": "code",
   "execution_count": null,
   "outputs": [],
   "source": [
    "print(\"Loading model, train, val, dx features and best features\")\n",
    "# model\n",
    "model = data_dic[\"xgb\"]\n",
    "print(data_dic[\"data\"].keys())\n",
    "\n",
    "# data consists of tuples with meta data and feature data\n",
    "all_data = data_dic[\"data\"]\n",
    "TT_train, TT_train_features, TT_predictions = all_data[\"TT_train\"]\n",
    "TT_val, TT_val_features, TT_val_predictions = all_data[\"TT_val\"]\n",
    "DX = all_data[\"DX\"]\n",
    "\n",
    "# use shortcut\n",
    "features = data_dic[\"best_features_gs\"]\n",
    "X = TT_val_features[features]\n",
    "explainer = shap.TreeExplainer(model)\n",
    "shap_values = explainer.shap_values(X)\n",
    "shap_values_inter = shap.TreeExplainer(model).shap_interaction_values(X)"
   ],
   "metadata": {
    "collapsed": false,
    "pycharm": {
     "name": "#%% SHAP\n"
    }
   }
  },
  {
   "cell_type": "code",
   "execution_count": null,
   "outputs": [],
   "source": [
    "train_cv_col = \"#6baed6\"\n",
    "test_col = \"#bdd7e7\"\n",
    "\n",
    "# 80%20 splits\n",
    "val_col = \"C1\"\n",
    "train_col = \"#2171b5\"\n",
    "# Train, Validation order for plotting\n",
    "order_cor = predictions_df_TV[\"Split\"].unique()"
   ],
   "metadata": {
    "collapsed": false,
    "pycharm": {
     "name": "#%% colors\n"
    }
   }
  },
  {
   "cell_type": "code",
   "execution_count": null,
   "outputs": [],
   "source": [
    "sns.set(style=\"white\", context=\"talk\")\n",
    "gridspec_kw={'width_ratios':[0.25, 0.25,  1]}\n",
    "f, (ax0, ax1, ax2) = plt.subplots(1, 3, figsize=(10, 5), gridspec_kw=gridspec_kw)\n",
    "\n",
    "# bar plot\n",
    "ax0 = sns.barplot(x=\"Split\", y=\"value\", data=res_melt, ax=ax0, order=[\"Train\", \"Test\"], palette={\"Train\": train_cv_col, \"Test\": test_col})\n",
    "ax0 = sns.stripplot(x=\"Split\", y=\"value\", data=res_melt, ax=ax0, order=[\"Train\", \"Test\"], color=\"k\")\n",
    "ax0.set_ylim(0, -70)\n",
    "ax0.set(xlabel=\"XGBoost\", ylabel=\"neg. MSE\")\n",
    "ax0.yaxis.set_major_locator(ticker.MaxNLocator(5))\n",
    "\n",
    "# boxplot\n",
    "ax1 = sns.boxplot(x=\"Split\", y=\"diff\", data=predictions_df_TV, ax=ax1,\n",
    "                  palette={order_cor[0]: train_col, order_cor[1]: val_col})\n",
    "ax1.axhline(0, lw=2, c=\"k\", zorder=-1, alpha=0.5)\n",
    "ax1.set(xticklabels=[\"Train\", \"Val.\"], ylabel=\"prediction error\")\n",
    "ax1.axhline(5, lw=2, c=\"k\", zorder=-1, alpha=0.5)\n",
    "ax1.axhline(-5, lw=2, c=\"k\", zorder=-1, alpha=0.5)\n",
    "\n",
    "ax2 = sns.scatterplot(y=\"predictions\", x=\"observed\", hue=\"Split\", data=predictions_df_TV,\n",
    "                      marker=\"+\", s=80, ax=ax2,\n",
    "                      palette={order_cor[0]: train_col, order_cor[1]: val_col})\n",
    "xmin = predictions_df_TV[[\"predictions\", \"observed\"]].min().min()\n",
    "xmax = predictions_df_TV[[\"predictions\", \"observed\"]].max().max()\n",
    "ax2.plot([xmin, xmax], [xmin, xmax], ls=\"--\", zorder=-1, lw=2, c=\"k\")\n",
    "ax2.set(xlabel=\"observed CV [V]\", ylabel=\"predicted CV [v]\")\n",
    "ax2.yaxis.set_major_locator(ticker.MaxNLocator(5))\n",
    "ax2.xaxis.set_major_locator(ticker.MaxNLocator(5))\n",
    "\n",
    "for ax, letter in zip([ax0, ax1, ax2], list(\"abcde\")):\n",
    "    # ax.text(-0.1, 1.15, letter, transform=ax.transAxes, fontsize=16, fontweight='bold', va='top',\n",
    "    #          ha='right')\n",
    "    sns.despine(ax=ax)\n",
    "plt.show()\n",
    "plt.savefig(r\"F:\\Sven\\CloudStorage\\Dropbox\\05_FAIMS in CLMS\\03_figures\\10_Manuscript_figs\\fig_2_SG\\20210313_Fig2abc_ml_overvew.png\", dpi=1200)\n",
    "plt.savefig(r\"F:\\Sven\\CloudStorage\\Dropbox\\05_FAIMS in CLMS\\03_figures\\10_Manuscript_figs\\fig_2_SG\\20210313_Fig2abc_ml_overvew.svg\", format='svg', dpi=1200)"
   ],
   "metadata": {
    "collapsed": false,
    "pycharm": {
     "name": "#%%\n"
    }
   }
  },
  {
   "cell_type": "code",
   "execution_count": null,
   "outputs": [],
   "source": [
    "shap.summary_plot(shap_values, X, show=False, max_display=15)\n",
    "ax2 = plt.gca()\n",
    "ax2.xaxis.set_tick_params(labelsize=15)\n",
    "ax2.yaxis.set_tick_params(labelsize=15)\n",
    "for i in range(0, 15):\n",
    "    ax2.axhline(i, ls=\"--\", lw=0.5, color=\"grey\")\n",
    "\n",
    "plt.savefig(r\"F:\\Sven\\CloudStorage\\Dropbox\\05_FAIMS in CLMS\\03_figures\\10_Manuscript_figs\\fig_2_SG\\20210313_Fig2d_shap_overall.png\", dpi=1200)\n",
    "plt.savefig(r\"F:\\Sven\\CloudStorage\\Dropbox\\05_FAIMS in CLMS\\03_figures\\10_Manuscript_figs\\fig_2_SG\\20210313_Fig2d_shap_overall.svg\", format='svg', dpi=1200)\n",
    "plt.show()\n",
    "plt.clf()"
   ],
   "metadata": {
    "collapsed": false,
    "pycharm": {
     "name": "#%% SHAP all\n"
    }
   }
  },
  {
   "cell_type": "code",
   "execution_count": null,
   "outputs": [],
   "source": [
    "shap.dependence_plot(\"p.charge\", shap_values, X, show=False, interaction_index=\"m/z\",\n",
    "                     x_jitter=0.25, alpha=0.7)\n",
    "ax2 = plt.gca()\n",
    "ax2.xaxis.set_tick_params(labelsize=15)\n",
    "ax2.yaxis.set_tick_params(labelsize=15)\n",
    "\n",
    "plt.savefig(r\"F:\\Sven\\CloudStorage\\Dropbox\\05_FAIMS in CLMS\\03_figures\\10_Manuscript_figs\\fig_2_SG\\20210313_Fig2e_shap_z_mz_interaction.png\", dpi=1200)\n",
    "plt.savefig(r\"F:\\Sven\\CloudStorage\\Dropbox\\05_FAIMS in CLMS\\03_figures\\10_Manuscript_figs\\fig_2_SG\\20210313_Fig2e_shap_z_mz_interaction.svg\", format='svg', dpi=1200)"
   ],
   "metadata": {
    "collapsed": false,
    "pycharm": {
     "name": "#%% SHAP interactions\n"
    }
   }
  },
  {
   "cell_type": "code",
   "execution_count": null,
   "outputs": [],
   "source": [
    "shap.dependence_plot(\"pi\", shap_values, X, show=False, interaction_index=\"intrinsic_size_sum\",\n",
    "                     x_jitter=0.1, alpha=0.7)\n",
    "ax2 = plt.gca()\n",
    "ax2.xaxis.set_tick_params(labelsize=15)\n",
    "ax2.yaxis.set_tick_params(labelsize=15)\n",
    "\n",
    "plt.savefig(r\"F:\\Sven\\CloudStorage\\Dropbox\\05_FAIMS in CLMS\\03_figures\\10_Manuscript_figs\\fig_2_SG\\20210313_Fig2f_shap_pi_size_sum_interaction.png\", dpi=1200)\n",
    "plt.savefig(r\"F:\\Sven\\CloudStorage\\Dropbox\\05_FAIMS in CLMS\\03_figures\\10_Manuscript_figs\\fig_2_SG\\20210313_Fig2f_shap_pi_size_sum_interaction.svg\", format='svg', dpi=1200)\n",
    "\n"
   ],
   "metadata": {
    "collapsed": false,
    "pycharm": {
     "name": "#%% SHAP PI main figure\n"
    }
   }
  },
  {
   "cell_type": "code",
   "execution_count": 1,
   "outputs": [
    {
     "ename": "NameError",
     "evalue": "name 'shap' is not defined",
     "output_type": "error",
     "traceback": [
      "\u001B[1;31m---------------------------------------------------------------------------\u001B[0m",
      "\u001B[1;31mNameError\u001B[0m                                 Traceback (most recent call last)",
      "\u001B[1;32m<ipython-input-1-8de9f029edeb>\u001B[0m in \u001B[0;36m<module>\u001B[1;34m\u001B[0m\n\u001B[1;32m----> 1\u001B[1;33m shap.dependence_plot(\"pi\", shap_values, X, show=False, interaction_index=\"m/z\",\n\u001B[0m\u001B[0;32m      2\u001B[0m                      x_jitter=0.1, alpha=0.7)\n\u001B[0;32m      3\u001B[0m \u001B[0max2\u001B[0m \u001B[1;33m=\u001B[0m \u001B[0mplt\u001B[0m\u001B[1;33m.\u001B[0m\u001B[0mgca\u001B[0m\u001B[1;33m(\u001B[0m\u001B[1;33m)\u001B[0m\u001B[1;33m\u001B[0m\u001B[1;33m\u001B[0m\u001B[0m\n\u001B[0;32m      4\u001B[0m \u001B[0max2\u001B[0m\u001B[1;33m.\u001B[0m\u001B[0mxaxis\u001B[0m\u001B[1;33m.\u001B[0m\u001B[0mset_tick_params\u001B[0m\u001B[1;33m(\u001B[0m\u001B[0mlabelsize\u001B[0m\u001B[1;33m=\u001B[0m\u001B[1;36m15\u001B[0m\u001B[1;33m)\u001B[0m\u001B[1;33m\u001B[0m\u001B[1;33m\u001B[0m\u001B[0m\n\u001B[0;32m      5\u001B[0m \u001B[0max2\u001B[0m\u001B[1;33m.\u001B[0m\u001B[0myaxis\u001B[0m\u001B[1;33m.\u001B[0m\u001B[0mset_tick_params\u001B[0m\u001B[1;33m(\u001B[0m\u001B[0mlabelsize\u001B[0m\u001B[1;33m=\u001B[0m\u001B[1;36m15\u001B[0m\u001B[1;33m)\u001B[0m\u001B[1;33m\u001B[0m\u001B[1;33m\u001B[0m\u001B[0m\n",
      "\u001B[1;31mNameError\u001B[0m: name 'shap' is not defined"
     ]
    }
   ],
   "source": [
    "shap.dependence_plot(\"pi\", shap_values, X, show=False, interaction_index=\"m/z\",\n",
    "                     x_jitter=0.1, alpha=0.7)\n",
    "ax2 = plt.gca()\n",
    "ax2.xaxis.set_tick_params(labelsize=15)\n",
    "ax2.yaxis.set_tick_params(labelsize=15)\n",
    "plt.savefig(r\"F:\\Sven\\CloudStorage\\Dropbox\\05_FAIMS in CLMS\\03_figures\\10_Manuscript_figs\\fig_2_SG\\20210313_Fig2f_shap_pi_mz_interaction.png\", dpi=1200)\n",
    "plt.savefig(r\"F:\\Sven\\CloudStorage\\Dropbox\\05_FAIMS in CLMS\\03_figures\\10_Manuscript_figs\\fig_2_SG\\20210313_Fig2f_shap_pi_mz_interaction.svg\", format='svg', dpi=1200)\n"
   ],
   "metadata": {
    "collapsed": false,
    "pycharm": {
     "name": "#%% SHAP PI/MZ main figure\n"
    }
   }
  }
 ],
 "metadata": {
  "kernelspec": {
   "display_name": "Python 3",
   "language": "python",
   "name": "python3"
  },
  "language_info": {
   "codemirror_mode": {
    "name": "ipython",
    "version": 2
   },
   "file_extension": ".py",
   "mimetype": "text/x-python",
   "name": "python",
   "nbconvert_exporter": "python",
   "pygments_lexer": "ipython2",
   "version": "2.7.6"
  }
 },
 "nbformat": 4,
 "nbformat_minor": 0
}